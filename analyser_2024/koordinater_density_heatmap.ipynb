{
 "cells": [
  {
   "cell_type": "code",
   "execution_count": 1,
   "metadata": {},
   "outputs": [],
   "source": [
    "import os\n",
    "import polars as pl"
   ]
  },
  {
   "cell_type": "code",
   "execution_count": 2,
   "metadata": {},
   "outputs": [],
   "source": [
    "# Paths\n",
    "\n",
    "CSV_EXTENSION = '.csv'\n",
    "\n",
    "POSITION_DATA_2021 = '2021-01-01_2021-12-31' + CSV_EXTENSION\n",
    "POSITION_DATA_2022 = '2022-01-01_2022-12-31' + CSV_EXTENSION\n",
    "POSITION_DATA_2023 = '2023-01-01_2023-12-31' + CSV_EXTENSION\n",
    "POSITION_DATA_2024 = '2024-01-01_2024-06-22' + CSV_EXTENSION\n",
    "\n",
    "VEHICLE_VIN = 'vin_kjøretøytype' + CSV_EXTENSION\n",
    "\n",
    "VEHICLE_COMBINATION = 'bil_henger_kombo' + CSV_EXTENSION\n",
    "\n",
    "current_dir = os.getcwd()\n",
    "\n",
    "relative_path_results = os.path.join('..', 'resultater')\n",
    "relative_path_position_data = os.path.join('..', 'LINX-data', 'posisjonsdata')\n",
    "relative_path_vehicle_vin = os.path.join('..', 'LINX-data', 'vin_kjøretøytype')\n",
    "relative_path_vehicle_combination = os.path.join('..', 'LINX-data', 'kombo_bil_henger')\n",
    "\n",
    "path_position_data_2021 = os.path.join(current_dir, relative_path_position_data, POSITION_DATA_2021)\n",
    "path_position_data_2022 = os.path.join(current_dir, relative_path_position_data, POSITION_DATA_2022)\n",
    "path_position_data_2023 = os.path.join(current_dir, relative_path_position_data, POSITION_DATA_2023)\n",
    "path_position_data_2024 = os.path.join(current_dir, relative_path_position_data, POSITION_DATA_2024)\n",
    "\n",
    "paths_position_data = (path_position_data_2021, path_position_data_2022, path_position_data_2023, path_position_data_2024)\n",
    "\n",
    "path_vechicle_vin = os.path.join(current_dir, relative_path_vehicle_vin, VEHICLE_VIN)\n",
    "\n",
    "path_vehicle_combination = os.path.join(current_dir, relative_path_vehicle_combination, VEHICLE_COMBINATION)"
   ]
  },
  {
   "cell_type": "code",
   "execution_count": null,
   "metadata": {},
   "outputs": [],
   "source": [
    "df_vehicle_combination = pl.read_csv(path_vehicle_combination)\n",
    "df_vehicle_vin = pl.read_csv(path_vechicle_vin)\n",
    "\n",
    "data_3_4 = []\n",
    "data_3_5 = []\n",
    "data_4_4 = []\n",
    "data_4_5 = []\n",
    "\n",
    "df_kombinasjoner = pl.read_csv(path_vehicle_combination)\n",
    "df_vehicle_vin = pl.read_csv(path_vechicle_vin)\n",
    "\n",
    "for i, year in enumerate([2021, 2022, 2023, 2024]):\n",
    "    df_position = pl.read_csv(paths_position_data[i])\n",
    "    vins_for_year = df_kombinasjoner.filter(pl.col('år') == year).select\n"
   ]
  }
 ],
 "metadata": {
  "kernelspec": {
   "display_name": ".venv",
   "language": "python",
   "name": "python3"
  },
  "language_info": {
   "codemirror_mode": {
    "name": "ipython",
    "version": 3
   },
   "file_extension": ".py",
   "mimetype": "text/x-python",
   "name": "python",
   "nbconvert_exporter": "python",
   "pygments_lexer": "ipython3",
   "version": "3.11.9"
  }
 },
 "nbformat": 4,
 "nbformat_minor": 2
}
