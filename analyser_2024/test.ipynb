{
 "cells": [
  {
   "cell_type": "code",
   "execution_count": 11,
   "metadata": {},
   "outputs": [
    {
     "data": {
      "text/html": [
       "\n",
       "        <iframe\n",
       "            width=\"100%\"\n",
       "            height=\"650\"\n",
       "            src=\"http://127.0.0.1:8050/\"\n",
       "            frameborder=\"0\"\n",
       "            allowfullscreen\n",
       "            \n",
       "        ></iframe>\n",
       "        "
      ],
      "text/plain": [
       "<IPython.lib.display.IFrame at 0x14ee1afa6d0>"
      ]
     },
     "metadata": {},
     "output_type": "display_data"
    }
   ],
   "source": [
    "import dash\n",
    "from dash import dcc, html\n",
    "from dash.dependencies import Input, Output\n",
    "import plotly.graph_objs as go\n",
    "import pandas as pd\n",
    "from random import randint\n",
    "import numpy as np\n",
    "\n",
    "# Generate sample data\n",
    "data = {\n",
    "    'vehicle_id': list(range(1, 101)),\n",
    "    'axle1': [np.random.normal(loc=randint(1500, 1900), scale=10) for _ in range(100)],\n",
    "    'axle2': [np.random.normal(loc=randint(1500, 1900), scale=100) for _ in range(100)],\n",
    "    'axle3': [np.random.normal(loc=randint(1500, 1900), scale=10) for _ in range(100)],\n",
    "    'axle4': [np.random.normal(loc=randint(1500, 1900), scale=10) for _ in range(100)],\n",
    "    'axle5': [np.random.normal(loc=randint(1500, 1900), scale=10) for _ in range(100)],\n",
    "    'axle6': [np.random.normal(loc=randint(1500, 1900), scale=10) for _ in range(100)],\n",
    "}\n",
    "data['total_weight'] = [sum([data['axle1'][i], data['axle2'][i], data['axle3'][i], data['axle4'][i], data['axle5'][i], data['axle6'][i]]) for i in range(100)]\n",
    "\n",
    "df = pd.DataFrame(data)\n",
    "\n",
    "# Initialize Dash app\n",
    "app = dash.Dash(__name__)\n",
    "\n",
    "app.layout = html.Div([\n",
    "    dcc.Graph(id='weight-graph'),\n",
    "    dcc.Interval(\n",
    "        id='interval-component',\n",
    "        interval=1*1000,  # in milliseconds\n",
    "        n_intervals=0\n",
    "    )\n",
    "])\n",
    "\n",
    "@app.callback(\n",
    "    Output('weight-graph', 'figure'),\n",
    "    [Input('interval-component', 'n_intervals')]\n",
    ")\n",
    "def update_graph(n):\n",
    "    axles = ['axle1', 'axle2', 'axle3', 'axle4', 'axle5', 'axle6']\n",
    "    \n",
    "    fig = go.Figure()\n",
    "\n",
    "    # Add scatter points for each axle weight per vehicle\n",
    "    for axle in axles:\n",
    "        fig.add_trace(go.Scatter(\n",
    "            x=[axle] * len(df),\n",
    "            y=df[axle],\n",
    "            mode='markers',\n",
    "            name=axle\n",
    "        ))\n",
    "\n",
    "    fig.update_layout(\n",
    "        title='Distribution of Axle Weights',\n",
    "        xaxis_title='Axles',\n",
    "        yaxis_title='Weight (kg)',\n",
    "        showlegend=True\n",
    "    )\n",
    "\n",
    "    return fig\n",
    "\n",
    "if __name__ == '__main__':\n",
    "    app.run_server(debug=True)\n"
   ]
  },
  {
   "cell_type": "code",
   "execution_count": 2,
   "metadata": {},
   "outputs": [
    {
     "name": "stdout",
     "output_type": "stream",
     "text": [
      "shape: (2, 4)\n",
      "┌─────┬─────┬──────┬───────────┐\n",
      "│ int ┆ str ┆ bool ┆ list      │\n",
      "│ --- ┆ --- ┆ ---  ┆ ---       │\n",
      "│ i64 ┆ str ┆ bool ┆ list[i64] │\n",
      "╞═════╪═════╪══════╪═══════════╡\n",
      "│ 1   ┆ a   ┆ true ┆ [1, 2]    │\n",
      "│ 2   ┆ b   ┆ null ┆ [3]       │\n",
      "└─────┴─────┴──────┴───────────┘\n",
      "shape: (2, 1)\n",
      "┌─────────────────────┐\n",
      "│ my_struct           │\n",
      "│ ---                 │\n",
      "│ struct[4]           │\n",
      "╞═════════════════════╡\n",
      "│ {1,\"a\",true,[1, 2]} │\n",
      "│ {2,\"b\",null,[3]}    │\n",
      "└─────────────────────┘\n"
     ]
    }
   ],
   "source": [
    "import polars as pl\n",
    "\n",
    "df = pl.DataFrame(\n",
    "    {\n",
    "        \"int\": [1, 2],\n",
    "        \"str\": [\"a\", \"b\"],\n",
    "        \"bool\": [True, None],\n",
    "        \"list\": [[1, 2], [3]],\n",
    "    }\n",
    ")\n",
    "\n",
    "print(df)\n",
    "\n",
    "df = df.select(pl.struct(pl.all()).alias(\"my_struct\"))\n",
    "\n",
    "print(df)"
   ]
  },
  {
   "cell_type": "code",
   "execution_count": null,
   "metadata": {},
   "outputs": [],
   "source": []
  }
 ],
 "metadata": {
  "kernelspec": {
   "display_name": ".venv",
   "language": "python",
   "name": "python3"
  },
  "language_info": {
   "codemirror_mode": {
    "name": "ipython",
    "version": 3
   },
   "file_extension": ".py",
   "mimetype": "text/x-python",
   "name": "python",
   "nbconvert_exporter": "python",
   "pygments_lexer": "ipython3",
   "version": "3.11.9"
  }
 },
 "nbformat": 4,
 "nbformat_minor": 2
}
