{
 "cells": [
  {
   "cell_type": "code",
   "execution_count": null,
   "metadata": {},
   "outputs": [],
   "source": [
    "import os\n",
    "import polars as pl\n",
    "import numpy as np\n",
    "from numpy.typing import NDArray\n",
    "from math import ceil, floor\n",
    "import matplotlib.pyplot as plt"
   ]
  },
  {
   "cell_type": "code",
   "execution_count": null,
   "metadata": {},
   "outputs": [],
   "source": [
    "GROSS_WEIGHT = 'GrossWeight'\n",
    "NUM_BINS = 100\n",
    "LOWER_LIMIT_WEIGHT = 3500\n",
    "UPPER_LIMIT_WEIGHT = 100000"
   ]
  },
  {
   "cell_type": "code",
   "execution_count": null,
   "metadata": {},
   "outputs": [],
   "source": [
    "def calculate_gross_weights(filepath: str) -> tuple:\n",
    "\n",
    "    df = pl.read_csv(filepath, separator=';', truncate_ragged_lines=True, skip_rows=6, ignore_errors=True)\n",
    "    df = df.filter(pl.col(GROSS_WEIGHT) > 3500)\n",
    "\n",
    "    gross_weights = np.array(df.select(GROSS_WEIGHT).to_series().to_list())\n",
    "\n",
    "    return gross_weights\n",
    "\n",
    "def filter_data(data: type) -> bool:\n",
    "    return type(data) == np.int64 or type(data) == np.int32 or type(data) == np.float64 or type(data) == np.float32\n",
    "\n",
    "def extract_location(filepath):\n",
    "    if 'Aanestad' in filepath and ('Vest' in filepath or 'vest' in filepath):\n",
    "        return 'Ånestad(vestgående)'\n",
    "    if 'Aanestad' in filepath and ('Ost' in filepath or 'ost' in filepath or 'Øst' in filepath or 'øst' in filepath):\n",
    "        return 'Ånestad(østgående)'\n",
    "    if 'Øysand' in filepath:\n",
    "        return 'Øysand'\n",
    "    if 'Skibotn' in filepath:\n",
    "        return 'Skibotn'\n",
    "    if 'Verdal' in filepath:\n",
    "        return 'Verdal'"
   ]
  },
  {
   "cell_type": "code",
   "execution_count": null,
   "metadata": {},
   "outputs": [],
   "source": [
    "datasets = (\n",
    "    '../WIM-data/Kistler_Øysand/20160808-31_Kistler Øysand_4913151-export(1).csv',\n",
    "    '../WIM-data/Kistler_Øysand/20160901-30_Kistler Øysand_4913151-export(2).csv',\n",
    "    '../WIM-data/Kistler_Øysand/20161001-31_Kistler Øysand_4913151-export(3)-fixed.csv',\n",
    "    '../WIM-data/Kistler_Øysand/20161101-30_Kistler Øysand_4913151-export(4).csv',\n",
    "    '../WIM-data/Kistler_Øysand/20161201-31_Kistler Øysand_4913151-export(5).csv',\n",
    "    '../WIM-data/Kistler_Øysand/20170101-31_Kistler Øysand_4913151-export(6).csv',\n",
    "    '../WIM-data/Kistler_Øysand/20170201-28_Kistler Øysand_4913151-export(7).csv',\n",
    "    '../WIM-data/Kistler_Øysand/20170301-31_Kistler Øysand_4913151-export(8).csv',\n",
    "    '../WIM-data/Kistler_Øysand/20170401-05_Kistler Øysand_4913151-export(9)-fixed.csv',\n",
    "    '../WIM-data/Kistler_Øysand/20180316_1.3.1_Kistler Øysand_4913151-export(24).csv',\n",
    "    '../WIM-data/Kistler_Øysand/20180401-30_Kistler Øysand_4796227-export(12).csv',\n",
    "    '../WIM-data/Kistler_Øysand/20180501-31(21-26)_Kistler Øysand_4796227-export(13).csv',\n",
    "    '../WIM-data/Kistler_Øysand/20180601-30(11-30)_Kistler Øysand_4796227-export(14).csv',\n",
    "    '../WIM-data/Kistler_Øysand/20180701-31(01-11)_Kistler Øysand_4796227-export(15).csv',\n",
    "    '../WIM-data/Kistler_Øysand/20180801-31(10-31)_Kistler Øysand_4796227-export(16).csv',\n",
    "    '../WIM-data/Kistler_Øysand/20180901-30_Kistler Øysand 4796227-export(17).csv',\n",
    "    '../WIM-data/Kistler_Skibotn/combinedFiles_E8_2018_kalibrert_4okt.csv',\n",
    "    '../WIM-data/Kistler_Skibotn/combinedFiles_E8_2019.csv',\n",
    "    '../WIM-data/Kistler_Skibotn/combinedFiles_E8_2020.csv',\n",
    "    '../WIM-data/Kistler_Verdal/20150513-20150531_Kistler Verdal 4796227.csv',\n",
    "    '../WIM-data/Kistler_Verdal/20150601-20150630_Kistler Verdal 4796227.csv',\n",
    "    '../WIM-data/Kistler_Verdal/20150701-20150731_Kistler Verdal 4796227.csv',\n",
    "    '../WIM-data/Kistler_Verdal/20150801-20150831_Kistler Verdal 4796227.csv',\n",
    "    '../WIM-data/Kistler_Verdal/20150901-20150930_Kistler Verdal 4796227.csv',\n",
    "    '../WIM-data/Kistler_Verdal/20151001-20151031_Kistler Verdal 4796227.csv',\n",
    "    '../WIM-data/Kistler_Verdal/20151101-20151130_Kistler Verdal 4796227.csv',\n",
    "    '../WIM-data/Kistler_Verdal/20151201-20151231_Kistler Verdal 4796227.csv',\n",
    "    '../WIM-data/Kistler_Verdal/20160101-20160131_Kistler Verdal 4796227.csv',\n",
    "    '../WIM-data/Kistler_Verdal/20160201-20160229_Kistler Verdal 4796227.csv',\n",
    "    '../WIM-data/Kistler_Verdal/20160301-20160331_Kistler Verdal 4796227.csv',\n",
    "    '../WIM-data/Kistler_Verdal/20160401-20160430_Kistler Verdal 4796227.csv',\n",
    "    '../WIM-data/Kistler_Verdal/20160501-20160531_Kistler Verdal 4796227.csv',\n",
    "    '../WIM-data/Kistler_Aanestad/20221014-20 Kistler_R3_ostg.csv',\n",
    "    '../WIM-data/Kistler_Aanestad/20221014-20 Kistler_R3_vestg.csv',\n",
    "    # '../WIM-data/Kistler_Aanestad/20231001-20240123_Aanestad_Ostgående.csv',\n",
    "    # '../WIM-data/Kistler_Aanestad/20231001-20240123_Aanestad_Vestgående.csv',\n",
    "    # '../WIM-data/Kistler_Aanestad/20240122-20240612_R3 vestgående.csv',\n",
    "    # '../WIM-data/Kistler_Aanestad/20240123-20240612_R3 østgående.csv'\n",
    ")\n"
   ]
  },
  {
   "cell_type": "code",
   "execution_count": null,
   "metadata": {},
   "outputs": [],
   "source": [
    "intervals = np.linspace(LOWER_LIMIT_WEIGHT, UPPER_LIMIT_WEIGHT, NUM_BINS + 1)\n",
    "interval_labels = [f'{intervals[i]:.1f}-{intervals[i+1]:.1f}' for i in range(len(intervals)-1)]\n",
    "cols = ['location', 'startdate', 'enddate'] + interval_labels\n",
    "rows = []\n",
    "\n",
    "n_rows = ceil(len(datasets) / 3)\n",
    "n_cols = 3\n",
    "\n",
    "fig, axes = plt.subplots(n_rows, n_cols, figsize=(18, 5 *n_rows))\n",
    "fig.subplots_adjust(hspace=0.5)\n",
    "axes = axes.flatten()\n",
    "\n",
    "for axes_index, dataset in enumerate(datasets):\n",
    "\n",
    "    try:\n",
    "        df = pl.read_csv(dataset, separator=';', truncate_ragged_lines=True, skip_rows=6, ignore_errors=True)\n",
    "        df = df.filter(pl.col(GROSS_WEIGHT) > 3500)\n",
    "        df = df.rename({col: col.replace(' ', '') for col in df.columns})\n",
    "        df = df.with_columns(\n",
    "            pl.col(\"StartTime\").cast(pl.Datetime(time_unit='ms')).alias('unix_timestamp')\n",
    "        )\n",
    "\n",
    "        startdate = df['unix_timestamp'].min().date().isoformat()\n",
    "        enddate = df['unix_timestamp'].max().date().isoformat()\n",
    "\n",
    "        location = extract_location(dataset)\n",
    "        name_dataset = dataset.split('/')[-1]\n",
    "        weights = np.array(list(filter(filter_data, calculate_gross_weights(dataset))))\n",
    "        mean = np.mean(weights)\n",
    "        median = np.median(weights)\n",
    "        ax = axes[axes_index]\n",
    "        ax.hist(weights, bins=100, color='blue', edgecolor='black')\n",
    "        ax.set_xlabel('Bruttovekt kjøretøy (kilo)')\n",
    "        ax.set_ylabel('Passeringer')\n",
    "        ax.set_title(f'Dataset:\\n{name_dataset}', fontsize=10)\n",
    "        ax.text(0.5, -0.225, f'Snitt: {mean:.2f} | Median: {median:.2f}', ha='center', va='center', transform=ax.transAxes, fontsize=10)\n",
    "\n",
    "        bins = [0] * NUM_BINS\n",
    "        bin_width = (UPPER_LIMIT_WEIGHT - LOWER_LIMIT_WEIGHT) / NUM_BINS\n",
    "        for weight in weights:\n",
    "            if LOWER_LIMIT_WEIGHT <= weight <= UPPER_LIMIT_WEIGHT:\n",
    "                bin_index = floor((weight - LOWER_LIMIT_WEIGHT) / bin_width)\n",
    "                bins[min(bin_index, NUM_BINS - 1)] += 1\n",
    "        rows.append([location, startdate, enddate] + bins)\n",
    "\n",
    "    except:\n",
    "        pass\n",
    "\n",
    "df = pl.DataFrame(schema=cols, data=rows)\n",
    "df.write_csv('../resultater/totalvekter.csv')"
   ]
  },
  {
   "cell_type": "code",
   "execution_count": 15,
   "metadata": {},
   "outputs": [
    {
     "name": "stderr",
     "output_type": "stream",
     "text": [
      "C:\\Users\\ander\\AppData\\Local\\Temp\\ipykernel_24212\\1598994095.py:6: DeprecationWarning: `groupby` is deprecated. It has been renamed to `group_by`.\n",
      "  df = df.groupby('location').agg([\n"
     ]
    }
   ],
   "source": [
    "# Samlede totalvekter for hvert sted\n",
    "\n",
    "df = pl.read_csv('../resultater/totalvekter.csv')\n",
    "weight_columns = [col for col in df.columns if '-' in col]\n",
    "\n",
    "df = df.groupby('location').agg([\n",
    "    pl.col(col).sum().alias(col) for col in weight_columns\n",
    "])\n",
    "\n",
    "df.write_csv('../resultater/totalvekter_per_sted.csv')"
   ]
  },
  {
   "cell_type": "code",
   "execution_count": null,
   "metadata": {},
   "outputs": [],
   "source": []
  }
 ],
 "metadata": {
  "kernelspec": {
   "display_name": ".venv",
   "language": "python",
   "name": "python3"
  },
  "language_info": {
   "codemirror_mode": {
    "name": "ipython",
    "version": 3
   },
   "file_extension": ".py",
   "mimetype": "text/x-python",
   "name": "python",
   "nbconvert_exporter": "python",
   "pygments_lexer": "ipython3",
   "version": "3.11.9"
  }
 },
 "nbformat": 4,
 "nbformat_minor": 2
}
