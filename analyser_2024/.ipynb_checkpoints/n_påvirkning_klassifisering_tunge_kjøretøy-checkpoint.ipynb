{
 "cells": [
  {
   "cell_type": "code",
   "execution_count": 4,
   "metadata": {},
   "outputs": [],
   "source": [
    "# Imports\n",
    "\n",
    "import os\n",
    "import polars as pl\n",
    "import numpy as np\n",
    "import matplotlib.pyplot as plt\n",
    "from typing import List\n",
    "from scipy.stats import norm as normal_distribution, t as student_t_distribution\n",
    "import statsmodels.api as sm\n",
    "import matplotlib.gridspec as gridspec\n",
    "import numbers"
   ]
  },
  {
   "cell_type": "code",
   "execution_count": 8,
   "metadata": {},
   "outputs": [],
   "source": [
    "# Konstanter\n",
    "\n",
    "OLD_LIMIT_HEAVY_VEHICLE = 5.6\n",
    "NEW_LIMIT_HEAVY_VEHICLE = 7.5\n",
    "LIMIT_AXLES_SAME_GROUP = 1.8\n",
    "VEHICLE_LENGTH = 'VehicleLength'\n",
    "AXLE_WEIGHT = 'AxleWeight'\n",
    "AXLE_DISTANCE = 'AxleDistance'"
   ]
  },
  {
   "cell_type": "code",
   "execution_count": 5,
   "metadata": {},
   "outputs": [],
   "source": [
    "# Datasets\n",
    "\n",
    "dataset_paths = (\n",
    "    '../WIM-data/Kistler_Øysand',\n",
    "    '../WIM-data/Kistler_Skibotn',\n",
    "    '../WIM-data/Kistler_Verdal',\n",
    "    '../WIM-data/Kistler_Aanestad'\n",
    ")\n",
    "\n",
    "datasets = []\n",
    "\n",
    "for path in dataset_paths:\n",
    "    files = [file for file in os.listdir(path) if file.endswith('.csv')]\n",
    "    for file in files: \n",
    "        dataset = f'{path}/{file}'\n",
    "        datasets.append(dataset)"
   ]
  },
  {
   "cell_type": "code",
   "execution_count": 2,
   "metadata": {},
   "outputs": [],
   "source": [
    "def calculate_n(c, e, ådtt, f, p):\n",
    "    return c * e * ådtt * f * ((1 + 0.01 * p)**20 - 1) / (0.01 * p)\n",
    "\n",
    "def calculate_c(df: pl.DataFrame, length_limit_heavy_vehicle) -> float:\n",
    "    axles_heavy_vehicles = df.filter(pl.col(VEHICLE_LENGTH) >= length_limit_heavy_vehicle).to_series().to_list()\n",
    "    axles_heavy_vehicles = np.array([float(axle) for axle in axles_heavy_vehicles])\n",
    "    n = len(df) \n",
    "    c = np.sum(axles_heavy_vehicles) / n\n",
    "\n",
    "    return c\n",
    "\n",
    "def calculate_e(df: pl.DataFrame) -> float:\n",
    "    \n",
    "    def calculate_esal_and_number_of_axel_groups(df: pl.DataFrame) -> float:\n",
    "\n",
    "        def calculate_esal_individual(row: tuple) -> float:\n",
    "\n",
    "            def k_value(axles: int) -> float:\n",
    "                return 1 if axles == 1 else (10 / (6 + 6 * axles))**4\n",
    "\n",
    "            weights = np.array([])\n",
    "            k_values = np.array([])\n",
    "\n",
    "            axle = 1\n",
    "            axles_in_group = 0\n",
    "            weight_in_group = 0\n",
    "\n",
    "            while row[f'{AXLE_DISTANCE}{axle}'] != None:\n",
    "\n",
    "                distance_from_previous_axle = float(row[f'{AXLE_DISTANCE}{axle}'])\n",
    "\n",
    "                if distance_from_previous_axle <= LIMIT_AXLES_SAME_GROUP:\n",
    "                    axles_in_group += 1\n",
    "                    weight_in_group += (float(row[f'{AXLE_WEIGHT}{axle}']) / 1000)\n",
    "\n",
    "                else:\n",
    "                    weights = np.append(weights, weight_in_group)\n",
    "                    k_values = np.append(k_values, k_value(axles_in_group))\n",
    "                    axles_in_group = 1\n",
    "                    weight_in_group = (float(row[f'{AXLE_WEIGHT}{axle}']) / 1000)\n",
    "\n",
    "                axle += 1\n",
    "\n",
    "            weights = np.append(weights, weight_in_group)\n",
    "            k_values = np.append(k_values, k_value(axles_in_group))\n",
    "                \n",
    "            return weights, k_values\n",
    "\n",
    "        esal_values_individual_vehicles = np.array([])\n",
    "        number_of_axel_groups = 0 # ngrp, antall akselgrupper (dvs. enkeltaksler + boggiaksler + trippelaksler osv.)\n",
    "\n",
    "        for row in df.iter_rows(named=True):\n",
    "            weights, k_values = calculate_esal_individual(row)\n",
    "            esal_values_individual_vehicles = np.append(esal_values_individual_vehicles, np.sum((weights / 10)**4 * k_values))\n",
    "            number_of_axel_groups += len(weights)\n",
    "\n",
    "        return esal_values_individual_vehicles, number_of_axel_groups\n",
    "\n",
    "    esals, ngrp = calculate_esal_and_number_of_axel_groups(df)\n",
    "    e = np.sum(esals) / ngrp\n",
    "\n",
    "    return e \n",
    "\n",
    "def calculate_ådtt():\n",
    "    pass\n"
   ]
  },
  {
   "cell_type": "code",
   "execution_count": 7,
   "metadata": {},
   "outputs": [
    {
     "name": "stdout",
     "output_type": "stream",
     "text": [
      "['ID;VehicleID;MetrologicalID;StartTime;StartTimeStr;LaneNo;Error;ErrorFlag;Warning;WarningFlag;Violation;ViolationFlag;Kistler Base Class ID;Scheme;Class ID;Direction;MoveStatus;FrontToFront;BackToFront;Duration;VehicleLength;GrossWeight;LeftWeight;RightWeight;Velocity;WheelBase;AxlesCount;MassUnit;VelocityUnit;DistanceUnit;AxleID1;AxleGroupID1;AxleVelocity1;AxleWeight1;AxleLeftWeight1;AxleRightWeight1;AxleLRImbalance1;AxleDistance1;AxleID2;AxleGroupID2;AxleVelocity2;AxleWeight2;AxleLeftWeight2;AxleRightWeight2;AxleLRImbalance2;AxleDistance2;AxleID3;AxleGroupID3;AxleVelocity3;AxleWeight3;AxleLeftWeight3;AxleRightWeight3;AxleLRImbalance3;AxleDistance3;AxleID4;AxleGroupID4;AxleVelocity4;AxleWeight4;AxleLeftWeight4;AxleRightWeight4;AxleLRImbalance4;AxleDistance4;AxleID5;AxleGroupID5;AxleVelocity5;AxleWeight5;AxleLeftWeight5;AxleRightWeight5;AxleLRImbalance5;AxleDistance5;AxleID6;AxleGroupID6;AxleVelocity6;AxleWeight6;AxleLeftWeight6;AxleRightWeight6;AxleLRImbalance6;AxleDistance6;AxleID7;AxleGroupID7;AxleVelocity7;AxleWeight7;AxleLeftWeight7;AxleRightWeight7;AxleLRImbalance7;AxleDistance7;AxleID8;AxleGroupID8;AxleVelocity8;AxleWeight8;AxleLeftWeight8;AxleRightWeight8;AxleLRImbalance8;AxleDistance8;AxleID9;AxleGroupID9;AxleVelocity9;AxleWeight9;AxleLeftWeight9;AxleRightWeight9;AxleLRImbalance9;AxleDistance9;AxleID10;AxleGroupID10;AxleVelocity10;AxleWeight10;AxleLeftWeight10;AxleRightWeight10;AxleLRImbalance10;AxleDistance10;AxleID11;AxleGroupID11;AxleVelocity11;AxleWeight11;AxleLeftWeight11;AxleRightWeight11;AxleLRImbalance11;AxleDistance11;AxleID12;AxleGroupID12;AxleVelocity12;AxleWeight12;AxleLeftWeight12;AxleRightWeight12;AxleLRImbalance12;AxleDistance12;AxleID13;AxleGroupID13;AxleVelocity13;AxleWeight13;AxleLeftWeight13;AxleRightWeight13;AxleLRImbalance13;AxleDistance13;AxleID14;AxleGroupID14;AxleVelocity14;AxleWeight14;AxleLeftWeight14;AxleRightWeight14;AxleLRImbalance14;AxleDistance14;AxleID15;AxleGroupID15;AxleVelocity15;AxleWeight15;AxleLeftWeight15;AxleRightWeight15;AxleLRImbalance15;AxleDistance15;AxleID16;AxleGroupID16;AxleVelocity16;AxleWeight16;AxleLeftWeight16;AxleRightWeight16;AxleLRImbalance16;AxleDistance16;AxleID17;AxleGroupID17;AxleVelocity17;AxleWeight17;AxleLeftWeight17;AxleRightWeight17;AxleLRImbalance17;AxleDistance17;AxleID18;AxleGroupID18;AxleVelocity18;AxleWeight18;AxleLeftWeight18;AxleRightWeight18;AxleLRImbalance18;AxleDistance18;AxleID19;AxleGroupID19;AxleVelocity19;AxleWeight19;AxleLeftWeight19;AxleRightWeight19;AxleLRImbalance19;AxleDistance19;AxleID20;AxleGroupID20;AxleVelocity20;AxleWeight20;AxleLeftWeight20;AxleRightWeight20;AxleLRImbalance20;AxleDistance20;AxleID21;AxleGroupID21;AxleVelocity21;AxleWeight21;AxleLeftWeight21;AxleRightWeight21;AxleLRImbalance21;AxleDistance21;AxleID22;AxleGroupID22;AxleVelocity22;AxleWeight22;AxleLeftWeight22;AxleRightWeight22;AxleLRImbalance22;AxleDistance22;AxleID23;AxleGroupID23;AxleVelocity23;AxleWeight23;AxleLeftWeight23;AxleRightWeight23;AxleLRImbalance23;AxleDistance23;AxleID24;AxleGroupID24;AxleVelocity24;AxleWeight24;AxleLeftWeight24;AxleRightWeight24;AxleLRImbalance24;AxleDistance24;AxleID25;AxleGroupID25;AxleVelocity25;AxleWeight25;AxleLeftWeight25;AxleRightWeight25;AxleLRImbalance25;AxleDistance25;AxleID26;AxleGroupID26;AxleVelocity26;AxleWeight26;AxleLeftWeight26;AxleRightWeight26;AxleLRImbalance26;AxleDistance26;AxleID27;AxleGroupID27;AxleVelocity27;AxleWeight27;AxleLeftWeight27;AxleRightWeight27;AxleLRImbalance27;AxleDistance27;AxleID28;AxleGroupID28;AxleVelocity28;AxleWeight28;AxleLeftWeight28;AxleRightWeight28;AxleLRImbalance28;AxleDistance28;AxleID29;AxleGroupID29;AxleVelocity29;AxleWeight29;AxleLeftWeight29;AxleRightWeight29;AxleLRImbalance29;AxleDistance29;AxleID30;AxleGroupID30;AxleVelocity30;AxleWeight30;AxleLeftWeight30;AxleRightWeight30;AxleLRImbalance30;AxleDistance30;AxleID31;AxleGroupID31;AxleVelocity31;AxleWeight31;AxleLeftWeight31;AxleRightWeight31;AxleLRImbalance31;AxleDistance31;AxleID32;AxleGroupID32;AxleVelocity32;AxleWeight32;AxleLeftWeight32;AxleRightWeight32;AxleLRImbalance32;AxleDistance32;AxleID33;AxleGroupID33;AxleVelocity33;AxleWeight33;AxleLeftWeight33;AxleRightWeight33;AxleLRImbalance33;AxleDistance33;AxleID34;AxleGroupID34;AxleVelocity34;AxleWeight34;AxleLeftWeight34;AxleRightWeight34;AxleLRImbalance34;AxleDistance34;AxleID35;AxleGroupID35;AxleVelocity35;AxleWeight35;AxleLeftWeight35;AxleRightWeight35;AxleLRImbalance35;AxleDistance35;AxleID36;AxleGroupID36;AxleVelocity36;AxleWeight36;AxleLeftWeight36;AxleRightWeight36;AxleLRImbalance36;AxleDistance36;AxleID37;AxleGroupID37;AxleVelocity37;AxleWeight37;AxleLeftWeight37;AxleRightWeight37;AxleLRImbalance37;AxleDistance37;AxleID38;AxleGroupID38;AxleVelocity38;AxleWeight38;AxleLeftWeight38;AxleRightWeight38;AxleLRImbalance38;AxleDistance38;AxleID39;AxleGroupID39;AxleVelocity39;AxleWeight39;AxleLeftWeight39;AxleRightWeight39;AxleLRImbalance39;AxleDistance39;AxleID40;AxleGroupID40;AxleVelocity40;AxleWeight40;AxleLeftWeight40;AxleRightWeight40;AxleLRImbalance40;AxleDistance40;AxleID41;AxleGroupID41;AxleVelocity41;AxleWeight41;AxleLeftWeight41;AxleRightWeight41;AxleLRImbalance41;AxleDistance41;AxleID42;AxleGroupID42;AxleVelocity42;AxleWeight42;AxleLeftWeight42;AxleRightWeight42;AxleLRImbalance42;AxleDistance42;AxleID43;AxleGroupID43;AxleVelocity43;AxleWeight43;AxleLeftWeight43;AxleRightWeight43;AxleLRImbalance43;AxleDistance43;AxleID44;AxleGroupID44;AxleVelocity44;AxleWeight44;AxleLeftWeight44;AxleRightWeight44;AxleLRImbalance44;AxleDistance44;AxleID45;AxleGroupID45;AxleVelocity45;AxleWeight45;AxleLeftWeight45;AxleRightWeight45;AxleLRImbalance45;AxleDistance45;AxleID46;AxleGroupID46;AxleVelocity46;AxleWeight46;AxleLeftWeight46;AxleRightWeight46;AxleLRImbalance46;AxleDistance46;AxleID47;AxleGroupID47;AxleVelocity47;AxleWeight47;AxleLeftWeight47;AxleRightWeight47;AxleLRImbalance47;AxleDistance47;AxleID48;AxleGroupID48;AxleVelocity48;AxleWeight48;AxleLeftWeight48;AxleRightWeight48;AxleLRImbalance48;AxleDistance48;AxleID49;AxleGroupID49;AxleVelocity49;AxleWeight49;AxleLeftWeight49;AxleRightWeight49;AxleLRImbalance49;AxleDistance49;AxleID50;AxleGroupID50;AxleVelocity50;AxleWeight50;AxleLeftWeight50;AxleRightWeight50;AxleLRImbalance50;AxleDistance50;AxleID51;AxleGroupID51;AxleVelocity51;AxleWeight51;AxleLeftWeight51;AxleRightWeight51;AxleLRImbalance51;AxleDistance51;AxleID52;AxleGroupID52;AxleVelocity52;AxleWeight52;AxleLeftWeight52;AxleRightWeight52;AxleLRImbalance52;AxleDistance52;AxleID53;AxleGroupID53;AxleVelocity53;AxleWeight53;AxleLeftWeight53;AxleRightWeight53;AxleLRImbalance53;AxleDistance53;AxleID54;AxleGroupID54;AxleVelocity54;AxleWeight54;AxleLeftWeight54;AxleRightWeight54;AxleLRImbalance54;AxleDistance54;AxleID55;AxleGroupID55;AxleVelocity55;AxleWeight55;AxleLeftWeight55;AxleRightWeight55;AxleLRImbalance55;AxleDistance55;AxleID56;AxleGroupID56;AxleVelocity56;AxleWeight56;AxleLeftWeight56;AxleRightWeight56;AxleLRImbalance56;AxleDistance56;AxleID57;AxleGroupID57;AxleVelocity57;AxleWeight57;AxleLeftWeight57;AxleRightWeight57;AxleLRImbalance57;AxleDistance57;AxleID58;AxleGroupID58;AxleVelocity58;AxleWeight58;AxleLeftWeight58;AxleRightWeight58;AxleLRImbalance58;AxleDistance58;AxleID59;AxleGroupID59;AxleVelocity59;AxleWeight59;AxleLeftWeight59;AxleRightWeight59;AxleLRImbalance59;AxleDistance59;AxleID60;AxleGroupID60;AxleVelocity60;AxleWeight60;AxleLeftWeight60;AxleRightWeight60;AxleLRImbalance60;AxleDistance60;AxleID61;AxleGroupID61;AxleVelocity61;AxleWeight61;AxleLeftWeight61;AxleRightWeight61;AxleLRImbalance61;AxleDistance61;AxleID62;AxleGroupID62;AxleVelocity62;AxleWeight62;AxleLeftWeight62;AxleRightWeight62;AxleLRImbalance62;AxleDistance62;AxleID63;AxleGroupID63;AxleVelocity63;AxleWeight63;AxleLeftWeight63;AxleRightWeight63;AxleLRImbalance63;AxleDistance63;AxleID64;AxleGroupID64;AxleVelocity64;AxleWeight64;AxleLeftWeight64;AxleRightWeight64;AxleLRImbalance64;AxleDistance64']\n"
     ]
    }
   ],
   "source": [
    "d = datasets[0]\n",
    "\n",
    "df = pl.read_csv(d, skip_rows=6, truncate_ragged_lines=True)\n",
    "print(df.columns)"
   ]
  },
  {
   "cell_type": "code",
   "execution_count": null,
   "metadata": {},
   "outputs": [],
   "source": []
  }
 ],
 "metadata": {
  "kernelspec": {
   "display_name": ".venv",
   "language": "python",
   "name": "python3"
  },
  "language_info": {
   "codemirror_mode": {
    "name": "ipython",
    "version": 3
   },
   "file_extension": ".py",
   "mimetype": "text/x-python",
   "name": "python",
   "nbconvert_exporter": "python",
   "pygments_lexer": "ipython3",
   "version": "3.12.3"
  }
 },
 "nbformat": 4,
 "nbformat_minor": 2
}
